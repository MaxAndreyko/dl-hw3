{
 "cells": [
  {
   "cell_type": "markdown",
   "id": "f1c368f2",
   "metadata": {},
   "source": [
    "# Глубинное обучение 1 / Введение в глубинное обучение, ФКН ВШЭ\n",
    "\n",
    "## Домашнее задание 3: RNN и языковые модели \n",
    "\n",
    "### Общая информация\n",
    "### Оценивание и штрафы\n",
    "\n",
    "Максимально допустимая оценка за работу — 10 баллов. Сдавать задание после указанного срока сдачи нельзя.\n",
    "\n",
    "Задание выполняется самостоятельно. «Похожие» решения считаются плагиатом и все задействованные студенты (в том числе те, у кого списали) не могут получить за него больше 0 баллов. Если вы нашли решение какого-то из заданий (или его часть) в открытом источнике, необходимо указать ссылку на этот источник в отдельном блоке в конце вашей работы (скорее всего вы будете не единственным, кто это нашел, поэтому чтобы исключить подозрение в плагиате, необходима ссылка на источник).\n",
    "\n",
    "Неэффективная реализация кода может негативно отразиться на оценке. Также оценка может быть снижена за плохо читаемый код и плохо оформленные графики. Все ответы должны сопровождаться кодом или комментариями о том, как они были получены.\n",
    "\n",
    "### О задании\n",
    "\n",
    "В этом задании вам предстоит обучить рекуррентную нейронную сеть для задачи генерации текстов. В качестве данных возьмем набор из 120 тысяч анекдотов (всех категорий от А до Я включительно). Его вы можете найти в архиве `jokes.txt.zip`, который доступен по [ссылке](https://disk.yandex.com/d/fjt5xICH-ukEEA)."
   ]
  },
  {
   "cell_type": "code",
   "execution_count": 17,
   "id": "b35b1cee",
   "metadata": {
    "ExecuteTime": {
     "end_time": "2024-06-09T18:26:07.557740Z",
     "start_time": "2024-06-09T18:26:07.474966Z"
    }
   },
   "outputs": [
    {
     "name": "stdout",
     "output_type": "stream",
     "text": [
      "The autoreload extension is already loaded. To reload it, use:\n",
      "  %reload_ext autoreload\n"
     ]
    }
   ],
   "source": [
    "%load_ext autoreload\n",
    "%autoreload 2"
   ]
  },
  {
   "cell_type": "markdown",
   "id": "1daae037",
   "metadata": {},
   "source": [
    "## Задание 1: Dataset (1 балл)\n",
    "\n",
    "В этом задании мы будет пользоваться библиотекой [sentencepiece](https://github.com/google/sentencepiece), которая поддерживает разные форматы токенизации текстов, в том числе BPE, который мы и будем использовать. Реализуйте недостающие фрагменты кода в классе `TextDataset` в файле `dataset.py`. Датасет обучает sentencepiece токенизатор, токенизирует тексты, превращает токены в индексы и паддит до одной и той же длины (параметр `max_length`). Не забудьте, что для генерации текстов нам будут нужны специальные токены начала и конца последовательности, соответственно `BOS` и `EOS`. Существуют еще два специальных токена &mdash; паддинг `PAD` и токен `UNK`, заменяющий out-of-vocabulary токены."
   ]
  },
  {
   "cell_type": "code",
   "execution_count": 14,
   "id": "a0ed11c5",
   "metadata": {
    "ExecuteTime": {
     "end_time": "2024-06-09T18:26:17.549139Z",
     "start_time": "2024-06-09T18:26:11.952628Z"
    }
   },
   "outputs": [],
   "source": [
    "import torch\n",
    "import numpy as np\n",
    "from src.dataset import TextDataset"
   ]
  },
  {
   "cell_type": "code",
   "execution_count": 19,
   "id": "81630e30",
   "metadata": {
    "ExecuteTime": {
     "start_time": "2024-06-09T18:26:17.549139Z"
    }
   },
   "outputs": [
    {
     "name": "stderr",
     "output_type": "stream",
     "text": [
      "sentencepiece_trainer.cc(78) LOG(INFO) Starts training with : \n",
      "trainer_spec {\n",
      "  input: data/external/jokes.txt\n",
      "  input_format: \n",
      "  model_prefix: bpe\n",
      "  model_type: BPE\n",
      "  vocab_size: 2000\n",
      "  self_test_sample_size: 0\n",
      "  character_coverage: 0.9995\n",
      "  input_sentence_size: 0\n",
      "  shuffle_input_sentence: 1\n",
      "  seed_sentencepiece_size: 1000000\n",
      "  shrinking_factor: 0.75\n",
      "  max_sentence_length: 4192\n",
      "  num_threads: 16\n",
      "  num_sub_iterations: 2\n",
      "  max_sentencepiece_length: 16\n",
      "  split_by_unicode_script: 1\n",
      "  split_by_number: 1\n",
      "  split_by_whitespace: 1\n",
      "  split_digits: 0\n",
      "  pretokenization_delimiter: \n",
      "  treat_whitespace_as_suffix: 0\n",
      "  allow_whitespace_only_pieces: 0\n",
      "  required_chars: \n",
      "  byte_fallback: 0\n",
      "  vocabulary_output_piece_score: 1\n",
      "  train_extremely_large_corpus: 0\n",
      "  seed_sentencepieces_file: \n",
      "  hard_vocab_limit: 1\n",
      "  use_all_vocab: 0\n",
      "  unk_id: 0\n",
      "  bos_id: 1\n",
      "  eos_id: 2\n",
      "  pad_id: 3\n",
      "  unk_piece: <unk>\n",
      "  bos_piece: <s>\n",
      "  eos_piece: </s>\n",
      "  pad_piece: <pad>\n",
      "  unk_surface:  ⁇ \n",
      "  enable_differential_privacy: 0\n",
      "  differential_privacy_noise_level: 0\n",
      "  differential_privacy_clipping_threshold: 0\n",
      "}\n",
      "normalizer_spec {\n",
      "  name: nmt_nfkc_cf\n",
      "  add_dummy_prefix: 1\n",
      "  remove_extra_whitespaces: 1\n",
      "  escape_whitespaces: 1\n",
      "  normalization_rule_tsv: \n",
      "}\n",
      "denormalizer_spec {}\n",
      "trainer_interface.cc(353) LOG(INFO) SentenceIterator is not specified. Using MultiFileSentenceIterator.\n",
      "trainer_interface.cc(185) LOG(INFO) Loading corpus: data/external/jokes.txt\n",
      "trainer_interface.cc(409) LOG(INFO) Loaded all 120758 sentences\n",
      "trainer_interface.cc(425) LOG(INFO) Adding meta_piece: <unk>\n",
      "trainer_interface.cc(425) LOG(INFO) Adding meta_piece: <s>\n",
      "trainer_interface.cc(425) LOG(INFO) Adding meta_piece: </s>\n",
      "trainer_interface.cc(425) LOG(INFO) Adding meta_piece: <pad>\n",
      "trainer_interface.cc(430) LOG(INFO) Normalizing sentences...\n",
      "trainer_interface.cc(539) LOG(INFO) all chars count=13399729\n",
      "trainer_interface.cc(550) LOG(INFO) Done: 99.9559% characters are covered.\n",
      "trainer_interface.cc(560) LOG(INFO) Alphabet size=42\n",
      "trainer_interface.cc(561) LOG(INFO) Final character coverage=0.999559\n",
      "trainer_interface.cc(592) LOG(INFO) Done! preprocessed 120758 sentences.\n",
      "trainer_interface.cc(598) LOG(INFO) Tokenizing input sentences with whitespace: 120758\n",
      "trainer_interface.cc(609) LOG(INFO) Done! 270101\n",
      "bpe_model_trainer.cc(159) LOG(INFO) Updating active symbols. max_freq=212415 min_freq=1\n",
      "bpe_model_trainer.cc(268) LOG(INFO) Added: freq=75494 size=20 all=1901 active=1820 piece=го\n",
      "bpe_model_trainer.cc(268) LOG(INFO) Added: freq=46791 size=40 all=3264 active=3183 piece=ри\n",
      "bpe_model_trainer.cc(268) LOG(INFO) Added: freq=28469 size=60 all=4599 active=4518 piece=▁э\n",
      "bpe_model_trainer.cc(268) LOG(INFO) Added: freq=21162 size=80 all=6112 active=6031 piece=мо\n",
      "bpe_model_trainer.cc(268) LOG(INFO) Added: freq=17949 size=100 all=7775 active=7694 piece=▁ма\n",
      "bpe_model_trainer.cc(159) LOG(INFO) Updating active symbols. max_freq=17784 min_freq=1361\n",
      "bpe_model_trainer.cc(268) LOG(INFO) Added: freq=15447 size=120 all=9735 active=2899 piece=▁хо\n",
      "bpe_model_trainer.cc(268) LOG(INFO) Added: freq=11961 size=140 all=11404 active=4568 piece=▁ни\n",
      "bpe_model_trainer.cc(268) LOG(INFO) Added: freq=10340 size=160 all=13444 active=6608 piece=ный\n",
      "bpe_model_trainer.cc(268) LOG(INFO) Added: freq=9129 size=180 all=15083 active=8247 piece=ят\n",
      "bpe_model_trainer.cc(268) LOG(INFO) Added: freq=7667 size=200 all=16505 active=9669 piece=ту\n",
      "bpe_model_trainer.cc(159) LOG(INFO) Updating active symbols. max_freq=7642 min_freq=1119\n",
      "bpe_model_trainer.cc(268) LOG(INFO) Added: freq=6816 size=220 all=18079 active=2401 piece=бу\n",
      "bpe_model_trainer.cc(268) LOG(INFO) Added: freq=6255 size=240 all=19795 active=4117 piece=ного\n",
      "bpe_model_trainer.cc(268) LOG(INFO) Added: freq=5535 size=260 all=21121 active=5443 piece=ска\n",
      "bpe_model_trainer.cc(268) LOG(INFO) Added: freq=4875 size=280 all=22355 active=6677 piece=▁вас\n",
      "bpe_model_trainer.cc(268) LOG(INFO) Added: freq=4408 size=300 all=23565 active=7887 piece=ром\n",
      "bpe_model_trainer.cc(159) LOG(INFO) Updating active symbols. max_freq=4403 min_freq=832\n",
      "bpe_model_trainer.cc(268) LOG(INFO) Added: freq=3918 size=320 all=24790 active=2268 piece=сы\n",
      "bpe_model_trainer.cc(268) LOG(INFO) Added: freq=3589 size=340 all=25997 active=3475 piece=▁стра\n",
      "bpe_model_trainer.cc(268) LOG(INFO) Added: freq=3301 size=360 all=27106 active=4584 piece=зу\n",
      "bpe_model_trainer.cc(268) LOG(INFO) Added: freq=3107 size=380 all=28279 active=5757 piece=чь\n",
      "bpe_model_trainer.cc(268) LOG(INFO) Added: freq=2959 size=400 all=28822 active=6300 piece=▁врем\n",
      "bpe_model_trainer.cc(159) LOG(INFO) Updating active symbols. max_freq=2955 min_freq=631\n",
      "bpe_model_trainer.cc(268) LOG(INFO) Added: freq=2811 size=420 all=29957 active=2574 piece=▁было\n",
      "bpe_model_trainer.cc(268) LOG(INFO) Added: freq=2644 size=440 all=30982 active=3599 piece=▁дет\n",
      "bpe_model_trainer.cc(268) LOG(INFO) Added: freq=2498 size=460 all=31799 active=4416 piece=▁ст\n",
      "bpe_model_trainer.cc(268) LOG(INFO) Added: freq=2354 size=480 all=32978 active=5595 piece=▁спрашивает\n",
      "bpe_model_trainer.cc(268) LOG(INFO) Added: freq=2245 size=500 all=33875 active=6492 piece=▁спа\n",
      "bpe_model_trainer.cc(159) LOG(INFO) Updating active symbols. max_freq=2242 min_freq=498\n",
      "bpe_model_trainer.cc(268) LOG(INFO) Added: freq=2119 size=520 all=34607 active=2385 piece=▁сем\n",
      "bpe_model_trainer.cc(268) LOG(INFO) Added: freq=1994 size=540 all=35769 active=3547 piece=сно\n",
      "bpe_model_trainer.cc(268) LOG(INFO) Added: freq=1904 size=560 all=36303 active=4081 piece=пы\n",
      "bpe_model_trainer.cc(268) LOG(INFO) Added: freq=1841 size=580 all=37295 active=5073 piece=▁рус\n",
      "bpe_model_trainer.cc(268) LOG(INFO) Added: freq=1779 size=600 all=38111 active=5889 piece=▁деньги\n",
      "bpe_model_trainer.cc(159) LOG(INFO) Updating active symbols. max_freq=1778 min_freq=421\n",
      "bpe_model_trainer.cc(268) LOG(INFO) Added: freq=1711 size=620 all=38867 active=2661 piece=▁коне\n",
      "bpe_model_trainer.cc(268) LOG(INFO) Added: freq=1639 size=640 all=39734 active=3528 piece=!.\n",
      "bpe_model_trainer.cc(268) LOG(INFO) Added: freq=1575 size=660 all=40564 active=4358 piece=шей\n",
      "bpe_model_trainer.cc(268) LOG(INFO) Added: freq=1516 size=680 all=41313 active=5107 piece=вра\n",
      "bpe_model_trainer.cc(268) LOG(INFO) Added: freq=1474 size=700 all=42148 active=5942 piece=при\n",
      "bpe_model_trainer.cc(159) LOG(INFO) Updating active symbols. max_freq=1472 min_freq=360\n",
      "bpe_model_trainer.cc(268) LOG(INFO) Added: freq=1430 size=720 all=43070 active=2894 piece=нии\n",
      "bpe_model_trainer.cc(268) LOG(INFO) Added: freq=1379 size=740 all=43888 active=3712 piece=▁тот\n",
      "bpe_model_trainer.cc(268) LOG(INFO) Added: freq=1347 size=760 all=44428 active=4252 piece=▁коро\n",
      "bpe_model_trainer.cc(268) LOG(INFO) Added: freq=1301 size=780 all=45059 active=4883 piece=ваться\n",
      "bpe_model_trainer.cc(268) LOG(INFO) Added: freq=1247 size=800 all=45855 active=5679 piece=▁кре\n",
      "bpe_model_trainer.cc(159) LOG(INFO) Updating active symbols. max_freq=1245 min_freq=316\n",
      "bpe_model_trainer.cc(268) LOG(INFO) Added: freq=1207 size=820 all=46464 active=2875 piece=▁сту\n",
      "bpe_model_trainer.cc(268) LOG(INFO) Added: freq=1180 size=840 all=46948 active=3359 piece=ент\n",
      "bpe_model_trainer.cc(268) LOG(INFO) Added: freq=1148 size=860 all=47652 active=4063 piece=▁кор\n",
      "bpe_model_trainer.cc(268) LOG(INFO) Added: freq=1120 size=880 all=48331 active=4742 piece=▁этом\n",
      "bpe_model_trainer.cc(268) LOG(INFO) Added: freq=1088 size=900 all=48901 active=5312 piece=▁дене\n",
      "bpe_model_trainer.cc(159) LOG(INFO) Updating active symbols. max_freq=1085 min_freq=283\n",
      "bpe_model_trainer.cc(268) LOG(INFO) Added: freq=1063 size=920 all=49381 active=2920 piece=льник\n",
      "bpe_model_trainer.cc(268) LOG(INFO) Added: freq=1031 size=940 all=50193 active=3732 piece=▁этого\n",
      "bpe_model_trainer.cc(268) LOG(INFO) Added: freq=1002 size=960 all=50598 active=4137 piece=нец\n",
      "bpe_model_trainer.cc(268) LOG(INFO) Added: freq=979 size=980 all=51151 active=4690 piece=▁глаза\n",
      "bpe_model_trainer.cc(268) LOG(INFO) Added: freq=957 size=1000 all=51518 active=5057 piece=это\n",
      "bpe_model_trainer.cc(159) LOG(INFO) Updating active symbols. max_freq=956 min_freq=258\n",
      "bpe_model_trainer.cc(268) LOG(INFO) Added: freq=933 size=1020 all=52029 active=3078 piece=ников\n",
      "bpe_model_trainer.cc(268) LOG(INFO) Added: freq=903 size=1040 all=52435 active=3484 piece=вез\n",
      "bpe_model_trainer.cc(268) LOG(INFO) Added: freq=880 size=1060 all=53028 active=4077 piece=▁наши\n",
      "bpe_model_trainer.cc(268) LOG(INFO) Added: freq=863 size=1080 all=53950 active=4999 piece=▁вста\n",
      "bpe_model_trainer.cc(268) LOG(INFO) Added: freq=848 size=1100 all=54401 active=5450 piece=▁отве\n",
      "bpe_model_trainer.cc(159) LOG(INFO) Updating active symbols. max_freq=847 min_freq=237\n",
      "bpe_model_trainer.cc(268) LOG(INFO) Added: freq=830 size=1120 all=54895 active=3192 piece=▁отно\n",
      "bpe_model_trainer.cc(268) LOG(INFO) Added: freq=819 size=1140 all=55385 active=3682 piece=▁покупа\n",
      "bpe_model_trainer.cc(268) LOG(INFO) Added: freq=800 size=1160 all=55765 active=4062 piece=▁жить\n",
      "bpe_model_trainer.cc(268) LOG(INFO) Added: freq=784 size=1180 all=56164 active=4461 piece=▁буты\n",
      "bpe_model_trainer.cc(268) LOG(INFO) Added: freq=774 size=1200 all=56592 active=4889 piece=▁роди\n",
      "bpe_model_trainer.cc(159) LOG(INFO) Updating active symbols. max_freq=772 min_freq=222\n",
      "bpe_model_trainer.cc(268) LOG(INFO) Added: freq=762 size=1220 all=57267 active=3481 piece=ску\n",
      "bpe_model_trainer.cc(268) LOG(INFO) Added: freq=750 size=1240 all=57939 active=4153 piece=▁живо\n",
      "bpe_model_trainer.cc(268) LOG(INFO) Added: freq=743 size=1260 all=58341 active=4555 piece=чке\n",
      "bpe_model_trainer.cc(268) LOG(INFO) Added: freq=720 size=1280 all=59110 active=5324 piece=дол\n",
      "bpe_model_trainer.cc(268) LOG(INFO) Added: freq=706 size=1300 all=59595 active=5809 piece=нулся\n",
      "bpe_model_trainer.cc(159) LOG(INFO) Updating active symbols. max_freq=705 min_freq=203\n",
      "bpe_model_trainer.cc(268) LOG(INFO) Added: freq=691 size=1320 all=59974 active=3328 piece=▁спать\n",
      "bpe_model_trainer.cc(268) LOG(INFO) Added: freq=681 size=1340 all=60398 active=3752 piece=▁хочется\n",
      "bpe_model_trainer.cc(268) LOG(INFO) Added: freq=667 size=1360 all=60954 active=4308 piece=▁уби\n",
      "bpe_model_trainer.cc(268) LOG(INFO) Added: freq=658 size=1380 all=61458 active=4812 piece=▁кли\n",
      "bpe_model_trainer.cc(268) LOG(INFO) Added: freq=647 size=1400 all=61913 active=5267 piece=▁неде\n",
      "bpe_model_trainer.cc(159) LOG(INFO) Updating active symbols. max_freq=646 min_freq=190\n",
      "bpe_model_trainer.cc(268) LOG(INFO) Added: freq=636 size=1420 all=62499 active=3674 piece=▁большо\n",
      "bpe_model_trainer.cc(268) LOG(INFO) Added: freq=625 size=1440 all=62839 active=4014 piece=▁согла\n",
      "bpe_model_trainer.cc(268) LOG(INFO) Added: freq=616 size=1460 all=63259 active=4434 piece=рый\n",
      "bpe_model_trainer.cc(268) LOG(INFO) Added: freq=606 size=1480 all=63575 active=4750 piece=▁возь\n",
      "bpe_model_trainer.cc(268) LOG(INFO) Added: freq=600 size=1500 all=64014 active=5189 piece=▁отпу\n",
      "bpe_model_trainer.cc(159) LOG(INFO) Updating active symbols. max_freq=600 min_freq=178\n",
      "bpe_model_trainer.cc(268) LOG(INFO) Added: freq=588 size=1520 all=64574 active=3747 piece=тре\n",
      "bpe_model_trainer.cc(268) LOG(INFO) Added: freq=580 size=1540 all=65102 active=4275 piece=льного\n",
      "bpe_model_trainer.cc(268) LOG(INFO) Added: freq=572 size=1560 all=65627 active=4800 piece=▁сред\n",
      "bpe_model_trainer.cc(268) LOG(INFO) Added: freq=561 size=1580 all=65984 active=5157 piece=▁одну\n",
      "bpe_model_trainer.cc(268) LOG(INFO) Added: freq=552 size=1600 all=66512 active=5685 piece=гать\n",
      "bpe_model_trainer.cc(159) LOG(INFO) Updating active symbols. max_freq=552 min_freq=167\n",
      "bpe_model_trainer.cc(268) LOG(INFO) Added: freq=544 size=1620 all=66820 active=3597 piece=юл\n",
      "bpe_model_trainer.cc(268) LOG(INFO) Added: freq=532 size=1640 all=67344 active=4121 piece=нд\n",
      "bpe_model_trainer.cc(268) LOG(INFO) Added: freq=526 size=1660 all=67820 active=4597 piece=▁году\n",
      "bpe_model_trainer.cc(268) LOG(INFO) Added: freq=518 size=1680 all=68165 active=4942 piece=▁влади\n",
      "bpe_model_trainer.cc(268) LOG(INFO) Added: freq=508 size=1700 all=68666 active=5443 piece=▁мире\n",
      "bpe_model_trainer.cc(159) LOG(INFO) Updating active symbols. max_freq=508 min_freq=157\n",
      "bpe_model_trainer.cc(268) LOG(INFO) Added: freq=502 size=1720 all=69072 active=3840 piece=▁сти\n",
      "bpe_model_trainer.cc(268) LOG(INFO) Added: freq=495 size=1740 all=69467 active=4235 piece=ено\n",
      "bpe_model_trainer.cc(268) LOG(INFO) Added: freq=488 size=1760 all=69867 active=4635 piece=▁пь\n",
      "bpe_model_trainer.cc(268) LOG(INFO) Added: freq=483 size=1780 all=70133 active=4901 piece=▁мальчи\n",
      "bpe_model_trainer.cc(268) LOG(INFO) Added: freq=476 size=1800 all=70476 active=5244 piece=▁рекла\n",
      "bpe_model_trainer.cc(159) LOG(INFO) Updating active symbols. max_freq=475 min_freq=149\n",
      "bpe_model_trainer.cc(268) LOG(INFO) Added: freq=471 size=1820 all=71013 active=4054 piece=��любит\n",
      "bpe_model_trainer.cc(268) LOG(INFO) Added: freq=466 size=1840 all=71293 active=4334 piece=▁деду\n",
      "bpe_model_trainer.cc(268) LOG(INFO) Added: freq=459 size=1860 all=71766 active=4807 piece=ом\n",
      "bpe_model_trainer.cc(268) LOG(INFO) Added: freq=452 size=1880 all=72060 active=5101 piece=▁позна\n",
      "bpe_model_trainer.cc(268) LOG(INFO) Added: freq=444 size=1900 all=72516 active=5557 piece=щение\n",
      "bpe_model_trainer.cc(159) LOG(INFO) Updating active symbols. max_freq=444 min_freq=141\n",
      "bpe_model_trainer.cc(268) LOG(INFO) Added: freq=440 size=1920 all=72889 active=3970 piece=хать\n",
      "bpe_model_trainer.cc(268) LOG(INFO) Added: freq=433 size=1940 all=73108 active=4189 piece=▁пап\n",
      "trainer_interface.cc(687) LOG(INFO) Saving model: bpe.model\n",
      "trainer_interface.cc(699) LOG(INFO) Saving vocabs: bpe.vocab\n"
     ]
    }
   ],
   "source": [
    "train_set = TextDataset(data_file='data/external/jokes.txt', train=True, sp_model_prefix='bpe')\n",
    "valid_set = TextDataset(data_file='data/external/jokes.txt', train=False, sp_model_prefix='bpe')"
   ]
  },
  {
   "cell_type": "code",
   "execution_count": 22,
   "id": "27555b9a",
   "metadata": {
    "ExecuteTime": {
     "end_time": "2024-06-09T18:05:59.851220Z",
     "start_time": "2024-06-09T18:05:59.833722Z"
    }
   },
   "outputs": [],
   "source": [
    "# Код должен проходить тесты\n",
    "assert len(train_set) + len(valid_set) == 120759\n",
    "\n",
    "for _ in range(5):\n",
    "    for dataset in (train_set, valid_set):\n",
    "        indices, length = dataset[np.random.randint(len(dataset))]\n",
    "        assert indices.shape == (dataset.max_length, )\n",
    "        assert indices[0].item() == dataset.bos_id\n",
    "        assert (indices == dataset.eos_id).sum().item() == 1\n",
    "\n",
    "        eos_pos = indices.tolist().index(dataset.eos_id)\n",
    "        assert torch.all(indices[eos_pos + 1:] == dataset.pad_id)\n",
    "        assert (indices != dataset.pad_id).sum() == length"
   ]
  },
  {
   "cell_type": "markdown",
   "id": "5db087d5",
   "metadata": {},
   "source": [
    "## Задание 2 Language model (3.5 балла)\n",
    "\n",
    "Реализуйте класс `LanguageModel` из файла `model.py`. Мы будем генерировать текст с помощью языковой модели &mdash; это авторегрессионная вероятностная модель, которая предсказывает распределение следующего токена при условии предыдущих:\n",
    "\n",
    "$$\n",
    "p(x_1, x_2, x_3, \\dots, x_T) = p(x_1) \\cdot p(x_2 | x_1) \\cdot p(x_3|x_1, x_2) \\, \\cdot \\, \\dots \\, \\cdot \\, p(x_T|x_1, \\dots, x_{T-1})\n",
    "$$\n",
    "\n",
    "Мы будем реализовывать ее с помощью рекуррентной нейронной сети. Ваш код должен поддерживать возможность работать как с оригинальной [RNN](https://pytorch.org/docs/stable/generated/torch.nn.RNN.html#torch.nn.RNN), так и c [LSTM](https://bitly.com/98K8eH). На каждом временном шаге модель возвращает логиты вероятностей для следующего токена. Модель будет работать в двух режимах (не путать с `.train()` и `.eval()`):\n",
    "\n",
    "- В режиме обучения (метод `forward`) модель принимает настоящие последовательности из датасета и их длины. На каждом временном шаге возвращаются логиты вероятностей следующего токена, что позволяет считать лосс, обучаться на трейне и валидироваться на валидации.\n",
    "\n",
    "- В режиме генерации (инференса, метод `inference`) модель принимает некоторый префикс (возможно пустой), с которого начинать генерацию, и продолжает его. Для этого на каждом шаге генерируются новые логиты, семплируется новый токен (из распределения, заданного логитами), и процесс продолжается, пока не будет сгенерирован токен `EOS` или не будет достигнуто ограничение на длину последовательности. **Обратите внимание**, что вам не нужно прогонять всю последовательность заново через RNN после каждого нового токена, это приведет к квадратичной сложности по длине последовательности. Вам достаточно обновлять скрытое состояние, подавая на вход новый сгенерированный токен и предыдущее скрытое состояние. Кроме того, чтобы получить больше контроля над генерацией, вводится параметр температуры `temp`. Перед семплированием нужно разделить на него логиты, полученные моделью. "
   ]
  },
  {
   "cell_type": "code",
   "execution_count": 20,
   "id": "378c1231",
   "metadata": {
    "ExecuteTime": {
     "end_time": "2024-06-09T17:51:35.611095Z",
     "start_time": "2024-06-09T17:51:32.703786Z"
    }
   },
   "outputs": [],
   "source": [
    "from src.model import LanguageModel"
   ]
  },
  {
   "cell_type": "code",
   "execution_count": 21,
   "id": "99427388",
   "metadata": {
    "ExecuteTime": {
     "end_time": "2024-06-09T17:51:37.235167Z",
     "start_time": "2024-06-09T17:51:37.068836Z"
    }
   },
   "outputs": [],
   "source": [
    "model = LanguageModel(train_set)"
   ]
  },
  {
   "cell_type": "code",
   "execution_count": null,
   "id": "199406f1",
   "metadata": {
    "ExecuteTime": {
     "end_time": "2024-06-09T17:46:58.689158Z",
     "start_time": "2024-06-09T17:46:58.138268Z"
    }
   },
   "outputs": [],
   "source": [
    "# Код должен проходить тесты\n",
    "for bs in [1, 4, 16, 64, 256]:\n",
    "    indices = torch.randint(high=train_set.vocab_size, size=(bs, train_set.max_length))\n",
    "    lengths = torch.randint(low=1, high=train_set.max_length + 1, size=(bs, ))\n",
    "    logits = model(indices, lengths)\n",
    "    assert logits.shape == (bs, lengths.max(), train_set.vocab_size)\n",
    "\n",
    "for prefix in ['', 'купил мужик шляпу,', 'сел медведь в машину и', 'подумал штирлиц']:\n",
    "    generated = model.inference(prefix, temp=np.random.uniform(0.1, 10))\n",
    "    assert type(generated) == str\n",
    "    assert generated.startswith(prefix)"
   ]
  },
  {
   "cell_type": "markdown",
   "id": "a7eacf83",
   "metadata": {},
   "source": [
    "## Задание 3: Training (1.5 балла)\n",
    "\n",
    "Всё, что нам осталось &mdash; реализовать цикл обучения. Заполните пропуски в файле `train.py`. Не забудьте, что мы учим модель предсказывать вероятность следующего, а не текущего токена. Также рекомендуется обрезать батч индексов по самой длинной последовательности, чтобы не гонять паддинги вхолостую. Для оценки качества генерации будем использовать метрику [perplexity](https://towardsdatascience.com/perplexity-in-language-models-87a196019a94). Реализуйте ее подсчет в функции `plot_losses` (да, для этого достаточно только значения лосса).\n",
    "\n",
    "Обучите модель, используя ванильную RNN в качестве рекуррентного слоя. Сохраните чекпойнт обученной модели, он нам еще пригодится. "
   ]
  },
  {
   "cell_type": "code",
   "execution_count": 37,
   "id": "fd6ab7dd",
   "metadata": {},
   "outputs": [
    {
     "data": {
      "image/png": "[encoded data removed]",
      "text/plain": [
       "<Figure size 1300x400 with 2 Axes>"
      ]
     },
     "metadata": {},
     "output_type": "display_data"
    },
    {
     "name": "stdout",
     "output_type": "stream",
     "text": [
      "Generation examples:\n",
      "[]\n",
      "\n",
      "[]\n",
      "\n",
      "[]\n",
      "\n",
      "[]\n",
      "\n",
      "[]\n",
      "\n"
     ]
    }
   ],
   "source": [
    "import torch.optim as optim\n",
    "from torch.utils.data import DataLoader\n",
    "from src.train import train\n",
    "\n",
    "learning_rate = 0.001\n",
    "batch_size = 32\n",
    "num_epochs = 10\n",
    "\n",
    "optimizer = optim.Adam(model.parameters(), lr=learning_rate)\n",
    "scheduler = optim.lr_scheduler.StepLR(optimizer, step_size=3, gamma=0.5)\n",
    "\n",
    "train_loader = DataLoader(train_set, batch_size=batch_size, shuffle=True)\n",
    "val_loader = DataLoader(valid_set, batch_size=batch_size)\n",
    "\n",
    "train(model, optimizer, scheduler, train_loader, val_loader, num_epochs=num_epochs)"
   ]
  },
  {
   "cell_type": "markdown",
   "id": "86dad5e1",
   "metadata": {},
   "source": [
    "## Задание 4: LSTM (0.5 балла)\n",
    "\n",
    "Обучите аналогичную модель, но с LSTM в качестве рекуррентного слоя. Сравните модели по метрикам и генерации. Не забывайте про чекпойнты!"
   ]
  },
  {
   "cell_type": "code",
   "execution_count": null,
   "id": "d457cd6f",
   "metadata": {},
   "outputs": [],
   "source": [
    "# YOUR CODE HERE (⊃｡•́‿•̀｡)⊃━✿✿✿✿✿✿"
   ]
  },
  {
   "cell_type": "markdown",
   "id": "2d23819c",
   "metadata": {},
   "source": [
    "## Задание 5: Sampling temperature (0.5 балла)\n",
    "\n",
    "Поэкспериментируйте, как результат генерации зависит от параметра температуры. Попробуйте генерацию с разными префиксами. Сделайте выводы. "
   ]
  },
  {
   "cell_type": "code",
   "execution_count": null,
   "id": "14bd1bfb",
   "metadata": {},
   "outputs": [],
   "source": [
    "# YOUR CODE HERE (⊃｡•́‿•̀｡)⊃━✿✿✿✿✿✿"
   ]
  },
  {
   "cell_type": "markdown",
   "id": "ff3967c7",
   "metadata": {},
   "source": [
    "## Задание 5: Tokenizers (1 балл)\n",
    "\n",
    "До сих пор мы использовали BPE токенизатор с относительно небольшим числом токенов (2000 по умолчанию). Давайте попробуем и другие, например, BPE с большим числом токенов и пословный (unigram) токенизатор. Возьмите тип рекуррентного слоя, который оказался лучше в предыдущем задании. Обучите модели на таких токенизаторах и сравните их генерацию. Не забывайте сохранять чекпойнты. Правильно ли сравнивать между собой получившиеся модели по значению perplexity? Почему?"
   ]
  },
  {
   "cell_type": "code",
   "execution_count": null,
   "id": "4589b3d9",
   "metadata": {},
   "outputs": [],
   "source": [
    "# YOUR CODE HERE (⊃｡•́‿•̀｡)⊃━✿✿✿✿✿✿"
   ]
  },
  {
   "cell_type": "markdown",
   "id": "bc550928",
   "metadata": {},
   "source": [
    "## Задание 6. Latent Semantic Analysis (1 балл)\n",
    "\n",
    "Попробуем другой подход к оцениванию качества генерации, основанный на [Latent Semantic Analysis](https://en.wikipedia.org/wiki/Latent_semantic_analysis). Реализуйте следующую метрику и сравните по ней модели, обученные с разными токенизаторами:\n",
    "\n",
    "1. Генерируем обученной моделью выборку текстов, совпадающую по размеру с валидационной выборкой.\n",
    "2. Объединяем две выборки текстов (валидационную и сгенерированную) в один корпус. Обратите внимание, что наша токенизация в общем случае необратима, поэтому для чистоты эксперимента нужно закодировать и декодировать валидационную выборку.\n",
    "3. Генерируем tf-idf матрицу для полученного корпуса.\n",
    "4. Понижаем размерность матрицы с помощью [SVD](https://scikit-learn.org/stable/modules/generated/sklearn.decomposition.TruncatedSVD.html).\n",
    "5. Теперь у нас есть векторы, описывающие валидационные и сгенерированные тексты, лежащие в одном пространстве. Для каждого вектора, отвечающего сгенерированному тексту, найдем наибольший cosine similarity между ним и вектором валидационного текста. Усредним такие similarity по всем сгенерированным текстам и получим число, характеризующее похожесть сгенерированной выборки на валидационную.\n",
    "\n",
    "Какие плюсы и минусы есть у описанной метрики?"
   ]
  },
  {
   "cell_type": "code",
   "execution_count": null,
   "id": "1415e3c9",
   "metadata": {},
   "outputs": [],
   "source": [
    "# YOUR CODE HERE (⊃｡•́‿•̀｡)⊃━✿✿✿✿✿✿"
   ]
  },
  {
   "cell_type": "markdown",
   "id": "07e632af",
   "metadata": {},
   "source": [
    "## Задание 7. Visualization (1 балл)\n",
    "\n",
    "В прошлом пункте мы получили векторы, описывающие валидационные и сгенерированные тексты. Попробуем визуализировать их. Примените [TSNE](https://scikit-learn.org/stable/modules/generated/sklearn.manifold.TSNE.html) к этим векторам и нарисуйте scatter-plot с получившимися двумерными представлениями. Точки, соответствующие валидационным и сгенерированным текстам, должны быть разного цвета. Визуализируйте таким образом все три модели для разных токенизаторов. "
   ]
  },
  {
   "cell_type": "code",
   "execution_count": null,
   "id": "2aada1d3",
   "metadata": {},
   "outputs": [],
   "source": [
    "# YOUR CODE HERE (⊃｡•́‿•̀｡)⊃━✿✿✿✿✿✿"
   ]
  },
  {
   "cell_type": "markdown",
   "id": "b3c5d3dc",
   "metadata": {},
   "source": [
    "## Бонус (0.1 балл)\n",
    "\n",
    "Покажите лучший анекдот, который удалось сгенерировать вашей модели. Если проверяющий найдет его смешным, то поставит 0.1 балла."
   ]
  }
 ],
 "metadata": {
  "kernelspec": {
   "display_name": "Python 3 (ipykernel)",
   "language": "python",
   "name": "python3"
  },
  "language_info": {
   "codemirror_mode": {
    "name": "ipython",
    "version": 3
   },
   "file_extension": ".py",
   "mimetype": "text/x-python",
   "name": "python",
   "nbconvert_exporter": "python",
   "pygments_lexer": "ipython3",
   "version": "3.10.12"
  }
 },
 "nbformat": 4,
 "nbformat_minor": 5
}
